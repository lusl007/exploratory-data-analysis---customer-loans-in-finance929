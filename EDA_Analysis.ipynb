{
 "cells": [
  {
   "cell_type": "markdown",
   "metadata": {},
   "source": [
    "# EDA Analysis and Visualisation - Loan Payments (Finance)"
   ]
  },
  {
   "cell_type": "markdown",
   "metadata": {},
   "source": [
    "# Loading the dataset and retrieving Information\n",
    "\n",
    "The steps include loading the csv file, getting information on the data types, shape of the dataset, name of the columns, checks on categorical and unique values"
   ]
  },
  {
   "cell_type": "code",
   "execution_count": null,
   "metadata": {},
   "outputs": [],
   "source": [
    "import pandas as pd\n",
    "import seaborn as sns\n",
    "import missingno as msno\n",
    "from data_transform import DataFrameInfo, DataFrameTransform, Plotter\n",
    "\n",
    "info = DataFrameInfo\n",
    "df_transform = DataFrameTransform\n",
    "plotter = Plotter\n",
    "\n",
    "loan_df = pd.read_csv('loan_payment.csv', index_col='id')"
   ]
  },
  {
   "cell_type": "code",
   "execution_count": null,
   "metadata": {},
   "outputs": [],
   "source": [
    "# retrieving the first 15 rows of the dataset for a general overview\n",
    "loan_df.head(15)\n",
    "\n",
    "# printing out the shape of the dataset\n",
    "print('The shape of the dataset:' + loan_df.shape())"
   ]
  },
  {
   "cell_type": "code",
   "execution_count": null,
   "metadata": {},
   "outputs": [],
   "source": [
    "# more descriptive stats\n",
    "loan_df.info()"
   ]
  },
  {
   "cell_type": "code",
   "execution_count": null,
   "metadata": {},
   "outputs": [],
   "source": [
    "# summary statistics\n",
    "loan_df.describe()"
   ]
  },
  {
   "cell_type": "code",
   "execution_count": null,
   "metadata": {},
   "outputs": [],
   "source": [
    "# checking the data types\n",
    "loan_df.dtypes()"
   ]
  },
  {
   "cell_type": "markdown",
   "metadata": {},
   "source": [
    "**Possible candidates for date conversions:**\n",
    "- issue_date\n",
    "- earliest_credit_line\n",
    "- last_payment_date\n",
    "- next_payment_date\n",
    "- last_credit_pull_date\n",
    "\n",
    "**Checks for categorical data**\n",
    "- grade\n",
    "- sub_grade\n",
    "- home_ownership\n",
    "- verification_status\n",
    "- loan_status\n",
    "- payment_plan\n",
    "- purpose\n",
    "- policy_code\n",
    "- application_type\n"
   ]
  },
  {
   "cell_type": "code",
   "execution_count": null,
   "metadata": {},
   "outputs": [],
   "source": [
    "# validate if the columns are of categorical type\n",
    "\n",
    "print(loan_df['grade'].nunique())\n",
    "print(loan_df['grade'].unique())"
   ]
  },
  {
   "cell_type": "code",
   "execution_count": null,
   "metadata": {},
   "outputs": [],
   "source": [
    "print(loan_df['sub_grade'].nunique())\n",
    "print(loan_df['sub_grade'].unique())"
   ]
  },
  {
   "cell_type": "code",
   "execution_count": null,
   "metadata": {},
   "outputs": [],
   "source": [
    "print(loan_df['home_ownership'].nunique())\n",
    "print(loan_df['home_ownership'].unique())"
   ]
  },
  {
   "cell_type": "code",
   "execution_count": null,
   "metadata": {},
   "outputs": [],
   "source": [
    "print(loan_df['verification_status'].nunique())\n",
    "print(loan_df['verification_status'].unique())"
   ]
  },
  {
   "cell_type": "code",
   "execution_count": null,
   "metadata": {},
   "outputs": [],
   "source": [
    "print(loan_df['loan_status'].nunique())\n",
    "print(loan_df['loan_status'].unique())"
   ]
  },
  {
   "cell_type": "code",
   "execution_count": null,
   "metadata": {},
   "outputs": [],
   "source": [
    "print(loan_df['payment_plan'].nunique())\n",
    "print(loan_df['payment_plan'].unique())"
   ]
  },
  {
   "cell_type": "code",
   "execution_count": null,
   "metadata": {},
   "outputs": [],
   "source": [
    "print(loan_df['purpose'].nunique())\n",
    "print(loan_df['purpose'].unique())"
   ]
  },
  {
   "cell_type": "code",
   "execution_count": null,
   "metadata": {},
   "outputs": [],
   "source": [
    "print(loan_df['policy_code'].nunique())\n",
    "print(loan_df['policy_code'].unique())"
   ]
  },
  {
   "cell_type": "code",
   "execution_count": null,
   "metadata": {},
   "outputs": [],
   "source": [
    "print(loan_df['hgrade'].nunique())\n",
    "print(loan_df['grade'].unique())"
   ]
  },
  {
   "cell_type": "code",
   "execution_count": null,
   "metadata": {},
   "outputs": [],
   "source": [
    "print(loan_df['application_type'].nunique())\n",
    "print(loan_df['application_type'].unique())"
   ]
  },
  {
   "cell_type": "code",
   "execution_count": null,
   "metadata": {},
   "outputs": [],
   "source": [
    "cat_list = ['grade', 'sub_grade', 'home_ownership', 'verification_status', 'loan_status', 'payment_plan', 'purpose', 'policy_code', 'application_type']\n",
    "\n",
    "# checking for unique values in each column within the categorical list created\n",
    "for column in cat_list:\n",
    "    print(loan_df[column].value_counts())\n",
    "    print('\\n')\n"
   ]
  },
  {
   "cell_type": "markdown",
   "metadata": {},
   "source": [
    "#Missing Values"
   ]
  },
  {
   "cell_type": "code",
   "execution_count": null,
   "metadata": {},
   "outputs": [],
   "source": [
    "# showing the fraction of missing values in each column\n",
    "print('Percentage of null values in each column:')\n",
    "loan_df.get_missing_values()"
   ]
  },
  {
   "cell_type": "code",
   "execution_count": null,
   "metadata": {},
   "outputs": [],
   "source": [
    "# visualising missing values in each column\n",
    "msno.matrix(loan_df)\n",
    "msno.bar(loan_df)"
   ]
  },
  {
   "cell_type": "markdown",
   "metadata": {},
   "source": [
    "**Dropping the following columns due to missing too many values:**\n",
    "- (TBD)"
   ]
  },
  {
   "cell_type": "markdown",
   "metadata": {},
   "source": [
    "# Current State of Loans"
   ]
  },
  {
   "cell_type": "code",
   "execution_count": null,
   "metadata": {},
   "outputs": [],
   "source": [
    "loans_recovered_percentage = (loan_df['total_payment'].sum() / loan_df['funded_amount'].sum()) * 100\n",
    "print(loans_recovered_percentage)"
   ]
  },
  {
   "cell_type": "markdown",
   "metadata": {},
   "source": [
    "# Calculating Loss"
   ]
  },
  {
   "cell_type": "markdown",
   "metadata": {},
   "source": [
    "# Calculating Projected Loss"
   ]
  },
  {
   "cell_type": "markdown",
   "metadata": {},
   "source": [
    "# Possible Loss"
   ]
  },
  {
   "cell_type": "markdown",
   "metadata": {},
   "source": [
    "# Indicators of Loss"
   ]
  }
 ],
 "metadata": {
  "language_info": {
   "name": "python"
  }
 },
 "nbformat": 4,
 "nbformat_minor": 2
}
